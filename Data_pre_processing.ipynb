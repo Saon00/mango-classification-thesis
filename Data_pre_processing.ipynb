{
 "cells": [
  {
   "cell_type": "code",
   "execution_count": 39,
   "id": "fbc051fa",
   "metadata": {},
   "outputs": [],
   "source": [
    "import os\n",
    "from tensorflow.keras.preprocessing.image import ImageDataGenerator, load_img, img_to_array\n",
    "# import keras.utils as image\n",
    "# from tensorflow.keras.preprocessing import image"
   ]
  },
  {
   "cell_type": "code",
   "execution_count": 40,
   "id": "c91652a4",
   "metadata": {},
   "outputs": [],
   "source": [
    "# Set your dataset directory and output directory for augmented images\n",
    "dataset_dir = 'images/'\n",
    "output_dir = 'newfolder02/'"
   ]
  },
  {
   "cell_type": "code",
   "execution_count": 41,
   "id": "4a3cd16c",
   "metadata": {},
   "outputs": [],
   "source": [
    "# List of class names\n",
    "class_names = ['0', '1', '2']"
   ]
  },
  {
   "cell_type": "code",
   "execution_count": 42,
   "id": "4923ba8f",
   "metadata": {},
   "outputs": [],
   "source": [
    "# Create an ImageDataGenerator instance with data augmentation settings\n",
    "datagen = ImageDataGenerator(\n",
    "    rescale=1.0 / 255,        # Normalize pixel values to [0, 1]\n",
    "    rotation_range=20,       # Random rotation between -20 and +20 degrees\n",
    "    width_shift_range=0.2,   # Random horizontal shift\n",
    "    height_shift_range=0.2,  # Random vertical shift\n",
    "    shear_range=0.2,         # Shear transformation\n",
    "    zoom_range=0.2,          # Random zoom\n",
    "    horizontal_flip=True,    # Random horizontal flip\n",
    "    vertical_flip=True,      # Random vertical flip\n",
    "    fill_mode='nearest',     # Filling mode for new pixels after transformations\n",
    "    samplewise_center=True,  # When it depends on overall color, mean value subtracted\n",
    "    samplewise_std_normalization=True, \n",
    "    \n",
    ")"
   ]
  },
  {
   "cell_type": "code",
   "execution_count": 43,
   "id": "b1591062",
   "metadata": {},
   "outputs": [
    {
     "name": "stdout",
     "output_type": "stream",
     "text": [
      "Data augmentation complete.\n"
     ]
    }
   ],
   "source": [
    "# Loop through each class and apply data augmentation\n",
    "for class_name in class_names:\n",
    "    class_dir = os.path.join(dataset_dir, class_name)\n",
    "    output_class_dir = os.path.join(output_dir, class_name)\n",
    "    \n",
    "    # Create the output directory if it doesn't exist\n",
    "    os.makedirs(output_class_dir, exist_ok=True)\n",
    "    \n",
    "    # Generate augmented images and save them to the output directory\n",
    "    for img_name in os.listdir(class_dir):\n",
    "        img_path = os.path.join(class_dir, img_name)\n",
    "        img = load_img(img_path, target_size=(224, 224))  # Resize to your desired size\n",
    "        img_array = img_to_array(img)\n",
    "        img_array = img_array.reshape((1,) + img_array.shape)  # Convert to 4D tensor\n",
    "        \n",
    "        # Generate and save augmented images\n",
    "        i = 0\n",
    "        for batch in datagen.flow(img_array, batch_size=1, save_to_dir=output_class_dir, save_prefix='aug', save_format='jpeg'):\n",
    "            i += 1\n",
    "            if i >= 5:  # Generate 5 augmented images per input image\n",
    "                break\n",
    "\n",
    "print(\"Data augmentation complete.\")"
   ]
  },
  {
   "cell_type": "code",
   "execution_count": null,
   "id": "496418f1",
   "metadata": {},
   "outputs": [],
   "source": []
  }
 ],
 "metadata": {
  "kernelspec": {
   "display_name": "Python 3 (ipykernel)",
   "language": "python",
   "name": "python3"
  },
  "language_info": {
   "codemirror_mode": {
    "name": "ipython",
    "version": 3
   },
   "file_extension": ".py",
   "mimetype": "text/x-python",
   "name": "python",
   "nbconvert_exporter": "python",
   "pygments_lexer": "ipython3",
   "version": "3.11.0"
  }
 },
 "nbformat": 4,
 "nbformat_minor": 5
}
