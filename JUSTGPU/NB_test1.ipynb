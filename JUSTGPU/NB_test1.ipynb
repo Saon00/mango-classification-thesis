{
 "cells": [
  {
   "cell_type": "code",
   "execution_count": 1,
   "id": "c45a22e8",
   "metadata": {},
   "outputs": [],
   "source": [
    "#pip install tensorflow"
   ]
  },
  {
   "cell_type": "code",
   "execution_count": 1,
   "id": "4f8b54b6",
   "metadata": {},
   "outputs": [],
   "source": [
    "import os\n",
    "import numpy as np\n",
    "import cv2\n",
    "import pandas as pd\n",
    "from tensorflow.keras.preprocessing.image import ImageDataGenerator"
   ]
  },
  {
   "cell_type": "code",
   "execution_count": 2,
   "id": "976a8abe",
   "metadata": {},
   "outputs": [],
   "source": [
    "directory = \"TImages/\""
   ]
  },
  {
   "cell_type": "code",
   "execution_count": 3,
   "id": "6536a589",
   "metadata": {},
   "outputs": [],
   "source": [
    "image_size = (244, 244)\n",
    "classes = [\"0\", \"1\", \"2\"]"
   ]
  },
  {
   "cell_type": "code",
   "execution_count": 4,
   "id": "3c72303b",
   "metadata": {},
   "outputs": [],
   "source": [
    "# Create an ImageDataGenerator instance with data augmentation settings\n",
    "datagen = ImageDataGenerator(\n",
    "    rescale=1.0 / 255,\n",
    "    rotation_range=20,\n",
    "    width_shift_range=0.2,\n",
    "    height_shift_range=0.2,\n",
    "    shear_range=0.2,\n",
    "    zoom_range=0.2,\n",
    "    horizontal_flip=True,\n",
    "    vertical_flip=True,\n",
    "    fill_mode='nearest',\n",
    "    samplewise_center=True,\n",
    "    samplewise_std_normalization=True,\n",
    ")"
   ]
  },
  {
   "cell_type": "code",
   "execution_count": 5,
   "id": "39319dbe",
   "metadata": {},
   "outputs": [],
   "source": [
    "training_data = []\n",
    "\n",
    "def create_training_data():\n",
    "    for category in classes:\n",
    "        path = os.path.join(directory, category)\n",
    "        class_num = classes.index(category)\n",
    "        for img in os.listdir(path):\n",
    "            try:\n",
    "                img_array = cv2.imread(os.path.join(path, img))\n",
    "                new_array = cv2.resize(img_array, image_size)\n",
    "\n",
    "                # Generate and store augmented images\n",
    "                augmented_images = []\n",
    "                augmented_images.append(new_array)  # Original image\n",
    "                img_array_aug = new_array.reshape((1,) + new_array.shape)\n",
    "                i = 0\n",
    "                for batch in datagen.flow(img_array_aug, batch_size=1):\n",
    "                    augmented_images.append(batch[0])\n",
    "                    i += 1\n",
    "                    if i >= 5:  # Generate 5 augmented images per input image\n",
    "                        break\n",
    "\n",
    "                for augmented_image in augmented_images:\n",
    "                    image_hsv = cv2.cvtColor(augmented_image, cv2.COLOR_BGR2HSV)\n",
    "                    training_data.append([image_hsv, class_num])\n",
    "\n",
    "            except Exception as e:\n",
    "                pass"
   ]
  },
  {
   "cell_type": "code",
   "execution_count": 6,
   "id": "98d4e295",
   "metadata": {},
   "outputs": [],
   "source": [
    "create_training_data()"
   ]
  },
  {
   "cell_type": "code",
   "execution_count": 7,
   "id": "fc6011bf",
   "metadata": {},
   "outputs": [
    {
     "name": "stdout",
     "output_type": "stream",
     "text": [
      "5850\n"
     ]
    }
   ],
   "source": [
    "lenofimage = len(training_data)\n",
    "print(lenofimage)"
   ]
  },
  {
   "cell_type": "code",
   "execution_count": 8,
   "id": "7b0e3b09",
   "metadata": {},
   "outputs": [],
   "source": [
    "X=[]\n",
    "y=[]\n",
    "\n",
    "for categories, label in training_data:\n",
    "    X.append(categories)\n",
    "    y.append(label)\n",
    "X= np.array(X).reshape(lenofimage,-1)"
   ]
  },
  {
   "cell_type": "code",
   "execution_count": 9,
   "id": "5fbf4535",
   "metadata": {},
   "outputs": [],
   "source": [
    "from sklearn.model_selection import train_test_split\n",
    "from sklearn.metrics import accuracy_score"
   ]
  },
  {
   "cell_type": "code",
   "execution_count": 10,
   "id": "4c8b1bf0",
   "metadata": {},
   "outputs": [],
   "source": [
    "X_train, X_test, y_train, y_test = train_test_split(X, y, test_size=0.2, random_state=42, )"
   ]
  },
  {
   "cell_type": "code",
   "execution_count": 11,
   "id": "6ac041ff",
   "metadata": {},
   "outputs": [],
   "source": [
    "## NB MODEL"
   ]
  },
  {
   "cell_type": "code",
   "execution_count": 12,
   "id": "265bf0df",
   "metadata": {},
   "outputs": [],
   "source": [
    "from sklearn.naive_bayes import GaussianNB\n",
    "from sklearn.model_selection import GridSearchCV\n",
    "from sklearn.model_selection import train_test_split\n",
    "from sklearn.metrics import accuracy_score"
   ]
  },
  {
   "cell_type": "code",
   "execution_count": 14,
   "id": "5d1a7886",
   "metadata": {},
   "outputs": [],
   "source": [
    "# Feature Scaling\n",
    "sc = StandardScaler()\n",
    "\n",
    "X_train = sc.fit_transform(X_train)\n",
    "X_test = sc.transform(X_test)"
   ]
  },
  {
   "cell_type": "code",
   "execution_count": 15,
   "id": "6554a65d",
   "metadata": {},
   "outputs": [],
   "source": [
    "# Define the parameter grid for hyperparameter tuning\n",
    "param_grid = {\n",
    "    'var_smoothing': [1e-9, 1e-8, 1e-7, 1e-6, 1e-5]  # You can adjust this range\n",
    "}"
   ]
  },
  {
   "cell_type": "code",
   "execution_count": 16,
   "id": "981d7d5e",
   "metadata": {},
   "outputs": [],
   "source": [
    "# Create the Gaussian Naive Bayes model\n",
    "nb = GaussianNB()"
   ]
  },
  {
   "cell_type": "code",
   "execution_count": 19,
   "id": "3b04ccad",
   "metadata": {},
   "outputs": [],
   "source": [
    "# Create the GridSearch object without cross-validation\n",
    "grid_search = GridSearchCV(nb, param_grid, cv=5, verbose=2)  # Set cv=None for no cross-validation"
   ]
  },
  {
   "cell_type": "code",
   "execution_count": 20,
   "id": "949ecdcc",
   "metadata": {},
   "outputs": [
    {
     "name": "stdout",
     "output_type": "stream",
     "text": [
      "Fitting 5 folds for each of 5 candidates, totalling 25 fits\n",
      "[CV] END ................................var_smoothing=1e-09; total time=   8.9s\n",
      "[CV] END ................................var_smoothing=1e-09; total time=   8.8s\n",
      "[CV] END ................................var_smoothing=1e-09; total time=   8.7s\n",
      "[CV] END ................................var_smoothing=1e-09; total time=   8.6s\n",
      "[CV] END ................................var_smoothing=1e-09; total time=   8.7s\n",
      "[CV] END ................................var_smoothing=1e-08; total time=   8.7s\n",
      "[CV] END ................................var_smoothing=1e-08; total time=   8.8s\n",
      "[CV] END ................................var_smoothing=1e-08; total time=   8.8s\n",
      "[CV] END ................................var_smoothing=1e-08; total time=   8.8s\n",
      "[CV] END ................................var_smoothing=1e-08; total time=   8.7s\n",
      "[CV] END ................................var_smoothing=1e-07; total time=   8.8s\n",
      "[CV] END ................................var_smoothing=1e-07; total time=   8.7s\n",
      "[CV] END ................................var_smoothing=1e-07; total time=   8.7s\n",
      "[CV] END ................................var_smoothing=1e-07; total time=   9.2s\n",
      "[CV] END ................................var_smoothing=1e-07; total time=   9.3s\n",
      "[CV] END ................................var_smoothing=1e-06; total time=   8.9s\n",
      "[CV] END ................................var_smoothing=1e-06; total time=   8.7s\n",
      "[CV] END ................................var_smoothing=1e-06; total time=   8.7s\n",
      "[CV] END ................................var_smoothing=1e-06; total time=   8.7s\n",
      "[CV] END ................................var_smoothing=1e-06; total time=   8.7s\n",
      "[CV] END ................................var_smoothing=1e-05; total time=   8.6s\n",
      "[CV] END ................................var_smoothing=1e-05; total time=   8.7s\n",
      "[CV] END ................................var_smoothing=1e-05; total time=   8.7s\n",
      "[CV] END ................................var_smoothing=1e-05; total time=   8.7s\n",
      "[CV] END ................................var_smoothing=1e-05; total time=   8.6s\n"
     ]
    },
    {
     "data": {
      "text/html": [
       "<style>#sk-container-id-1 {color: black;}#sk-container-id-1 pre{padding: 0;}#sk-container-id-1 div.sk-toggleable {background-color: white;}#sk-container-id-1 label.sk-toggleable__label {cursor: pointer;display: block;width: 100%;margin-bottom: 0;padding: 0.3em;box-sizing: border-box;text-align: center;}#sk-container-id-1 label.sk-toggleable__label-arrow:before {content: \"▸\";float: left;margin-right: 0.25em;color: #696969;}#sk-container-id-1 label.sk-toggleable__label-arrow:hover:before {color: black;}#sk-container-id-1 div.sk-estimator:hover label.sk-toggleable__label-arrow:before {color: black;}#sk-container-id-1 div.sk-toggleable__content {max-height: 0;max-width: 0;overflow: hidden;text-align: left;background-color: #f0f8ff;}#sk-container-id-1 div.sk-toggleable__content pre {margin: 0.2em;color: black;border-radius: 0.25em;background-color: #f0f8ff;}#sk-container-id-1 input.sk-toggleable__control:checked~div.sk-toggleable__content {max-height: 200px;max-width: 100%;overflow: auto;}#sk-container-id-1 input.sk-toggleable__control:checked~label.sk-toggleable__label-arrow:before {content: \"▾\";}#sk-container-id-1 div.sk-estimator input.sk-toggleable__control:checked~label.sk-toggleable__label {background-color: #d4ebff;}#sk-container-id-1 div.sk-label input.sk-toggleable__control:checked~label.sk-toggleable__label {background-color: #d4ebff;}#sk-container-id-1 input.sk-hidden--visually {border: 0;clip: rect(1px 1px 1px 1px);clip: rect(1px, 1px, 1px, 1px);height: 1px;margin: -1px;overflow: hidden;padding: 0;position: absolute;width: 1px;}#sk-container-id-1 div.sk-estimator {font-family: monospace;background-color: #f0f8ff;border: 1px dotted black;border-radius: 0.25em;box-sizing: border-box;margin-bottom: 0.5em;}#sk-container-id-1 div.sk-estimator:hover {background-color: #d4ebff;}#sk-container-id-1 div.sk-parallel-item::after {content: \"\";width: 100%;border-bottom: 1px solid gray;flex-grow: 1;}#sk-container-id-1 div.sk-label:hover label.sk-toggleable__label {background-color: #d4ebff;}#sk-container-id-1 div.sk-serial::before {content: \"\";position: absolute;border-left: 1px solid gray;box-sizing: border-box;top: 0;bottom: 0;left: 50%;z-index: 0;}#sk-container-id-1 div.sk-serial {display: flex;flex-direction: column;align-items: center;background-color: white;padding-right: 0.2em;padding-left: 0.2em;position: relative;}#sk-container-id-1 div.sk-item {position: relative;z-index: 1;}#sk-container-id-1 div.sk-parallel {display: flex;align-items: stretch;justify-content: center;background-color: white;position: relative;}#sk-container-id-1 div.sk-item::before, #sk-container-id-1 div.sk-parallel-item::before {content: \"\";position: absolute;border-left: 1px solid gray;box-sizing: border-box;top: 0;bottom: 0;left: 50%;z-index: -1;}#sk-container-id-1 div.sk-parallel-item {display: flex;flex-direction: column;z-index: 1;position: relative;background-color: white;}#sk-container-id-1 div.sk-parallel-item:first-child::after {align-self: flex-end;width: 50%;}#sk-container-id-1 div.sk-parallel-item:last-child::after {align-self: flex-start;width: 50%;}#sk-container-id-1 div.sk-parallel-item:only-child::after {width: 0;}#sk-container-id-1 div.sk-dashed-wrapped {border: 1px dashed gray;margin: 0 0.4em 0.5em 0.4em;box-sizing: border-box;padding-bottom: 0.4em;background-color: white;}#sk-container-id-1 div.sk-label label {font-family: monospace;font-weight: bold;display: inline-block;line-height: 1.2em;}#sk-container-id-1 div.sk-label-container {text-align: center;}#sk-container-id-1 div.sk-container {/* jupyter's `normalize.less` sets `[hidden] { display: none; }` but bootstrap.min.css set `[hidden] { display: none !important; }` so we also need the `!important` here to be able to override the default hidden behavior on the sphinx rendered scikit-learn.org. See: https://github.com/scikit-learn/scikit-learn/issues/21755 */display: inline-block !important;position: relative;}#sk-container-id-1 div.sk-text-repr-fallback {display: none;}</style><div id=\"sk-container-id-1\" class=\"sk-top-container\"><div class=\"sk-text-repr-fallback\"><pre>GridSearchCV(cv=5, estimator=GaussianNB(),\n",
       "             param_grid={&#x27;var_smoothing&#x27;: [1e-09, 1e-08, 1e-07, 1e-06, 1e-05]},\n",
       "             verbose=2)</pre><b>In a Jupyter environment, please rerun this cell to show the HTML representation or trust the notebook. <br />On GitHub, the HTML representation is unable to render, please try loading this page with nbviewer.org.</b></div><div class=\"sk-container\" hidden><div class=\"sk-item sk-dashed-wrapped\"><div class=\"sk-label-container\"><div class=\"sk-label sk-toggleable\"><input class=\"sk-toggleable__control sk-hidden--visually\" id=\"sk-estimator-id-1\" type=\"checkbox\" ><label for=\"sk-estimator-id-1\" class=\"sk-toggleable__label sk-toggleable__label-arrow\">GridSearchCV</label><div class=\"sk-toggleable__content\"><pre>GridSearchCV(cv=5, estimator=GaussianNB(),\n",
       "             param_grid={&#x27;var_smoothing&#x27;: [1e-09, 1e-08, 1e-07, 1e-06, 1e-05]},\n",
       "             verbose=2)</pre></div></div></div><div class=\"sk-parallel\"><div class=\"sk-parallel-item\"><div class=\"sk-item\"><div class=\"sk-label-container\"><div class=\"sk-label sk-toggleable\"><input class=\"sk-toggleable__control sk-hidden--visually\" id=\"sk-estimator-id-2\" type=\"checkbox\" ><label for=\"sk-estimator-id-2\" class=\"sk-toggleable__label sk-toggleable__label-arrow\">estimator: GaussianNB</label><div class=\"sk-toggleable__content\"><pre>GaussianNB()</pre></div></div></div><div class=\"sk-serial\"><div class=\"sk-item\"><div class=\"sk-estimator sk-toggleable\"><input class=\"sk-toggleable__control sk-hidden--visually\" id=\"sk-estimator-id-3\" type=\"checkbox\" ><label for=\"sk-estimator-id-3\" class=\"sk-toggleable__label sk-toggleable__label-arrow\">GaussianNB</label><div class=\"sk-toggleable__content\"><pre>GaussianNB()</pre></div></div></div></div></div></div></div></div></div></div>"
      ],
      "text/plain": [
       "GridSearchCV(cv=5, estimator=GaussianNB(),\n",
       "             param_grid={'var_smoothing': [1e-09, 1e-08, 1e-07, 1e-06, 1e-05]},\n",
       "             verbose=2)"
      ]
     },
     "execution_count": 20,
     "metadata": {},
     "output_type": "execute_result"
    }
   ],
   "source": [
    "# Fit the GridSearch object to your data\n",
    "grid_search.fit(X_train, y_train)"
   ]
  },
  {
   "cell_type": "code",
   "execution_count": 21,
   "id": "7f655292",
   "metadata": {},
   "outputs": [
    {
     "name": "stdout",
     "output_type": "stream",
     "text": [
      "Best Gaussian Naive Bayes Parameters: {'var_smoothing': 1e-09}\n",
      "Accuracy: 35.90%\n"
     ]
    }
   ],
   "source": [
    "# Get the best estimator and evaluate it\n",
    "best_nb = grid_search.best_estimator_\n",
    "y_test_pred = best_nb.predict(X_test)\n",
    "accuracy = accuracy_score(y_test, y_test_pred)\n",
    "print(\"Best Gaussian Naive Bayes Parameters:\", grid_search.best_params_)\n",
    "print(\"Accuracy: {:.2f}%\".format(accuracy * 100))"
   ]
  },
  {
   "cell_type": "code",
   "execution_count": null,
   "id": "7b819f0f",
   "metadata": {},
   "outputs": [],
   "source": [
    "# work progressing...........\n"
   ]
  },
  {
   "cell_type": "code",
   "execution_count": 22,
   "id": "e85d5980",
   "metadata": {},
   "outputs": [
    {
     "data": {
      "text/plain": [
       "{'mean_fit_time': array([4.99508915, 4.93387742, 5.02935934, 4.94892583, 4.889849  ]),\n",
       " 'std_fit_time': array([0.1383721 , 0.02893808, 0.17354947, 0.09009725, 0.02551603]),\n",
       " 'mean_score_time': array([3.86494832, 3.92965426, 4.02370605, 3.87758813, 3.86397972]),\n",
       " 'std_score_time': array([0.03710905, 0.00589492, 0.0858072 , 0.02028097, 0.00572366]),\n",
       " 'param_var_smoothing': masked_array(data=[1e-09, 1e-08, 1e-07, 1e-06, 1e-05],\n",
       "              mask=[False, False, False, False, False],\n",
       "        fill_value='?',\n",
       "             dtype=object),\n",
       " 'params': [{'var_smoothing': 1e-09},\n",
       "  {'var_smoothing': 1e-08},\n",
       "  {'var_smoothing': 1e-07},\n",
       "  {'var_smoothing': 1e-06},\n",
       "  {'var_smoothing': 1e-05}],\n",
       " 'split0_test_score': array([0.43589744, 0.35576923, 0.13034188, 0.05662393, 0.02884615]),\n",
       " 'split1_test_score': array([0.30128205, 0.19337607, 0.11752137, 0.06089744, 0.03311966]),\n",
       " 'split2_test_score': array([0.27029915, 0.17521368, 0.10683761, 0.04807692, 0.02777778]),\n",
       " 'split3_test_score': array([0.38247863, 0.21794872, 0.12606838, 0.06837607, 0.04166667]),\n",
       " 'split4_test_score': array([0.36111111, 0.28739316, 0.13461538, 0.07905983, 0.05235043]),\n",
       " 'mean_test_score': array([0.35021368, 0.24594017, 0.12307692, 0.06260684, 0.03675214]),\n",
       " 'std_test_score': array([0.05879137, 0.06682741, 0.00989388, 0.01052445, 0.00920541]),\n",
       " 'rank_test_score': array([1, 2, 3, 4, 5])}"
      ]
     },
     "execution_count": 22,
     "metadata": {},
     "output_type": "execute_result"
    }
   ],
   "source": [
    "grid_search.cv_results_"
   ]
  },
  {
   "cell_type": "code",
   "execution_count": 23,
   "id": "e37c36c5",
   "metadata": {},
   "outputs": [
    {
     "data": {
      "text/html": [
       "<div>\n",
       "<style scoped>\n",
       "    .dataframe tbody tr th:only-of-type {\n",
       "        vertical-align: middle;\n",
       "    }\n",
       "\n",
       "    .dataframe tbody tr th {\n",
       "        vertical-align: top;\n",
       "    }\n",
       "\n",
       "    .dataframe thead th {\n",
       "        text-align: right;\n",
       "    }\n",
       "</style>\n",
       "<table border=\"1\" class=\"dataframe\">\n",
       "  <thead>\n",
       "    <tr style=\"text-align: right;\">\n",
       "      <th></th>\n",
       "      <th>mean_fit_time</th>\n",
       "      <th>std_fit_time</th>\n",
       "      <th>mean_score_time</th>\n",
       "      <th>std_score_time</th>\n",
       "      <th>param_var_smoothing</th>\n",
       "      <th>params</th>\n",
       "      <th>split0_test_score</th>\n",
       "      <th>split1_test_score</th>\n",
       "      <th>split2_test_score</th>\n",
       "      <th>split3_test_score</th>\n",
       "      <th>split4_test_score</th>\n",
       "      <th>mean_test_score</th>\n",
       "      <th>std_test_score</th>\n",
       "      <th>rank_test_score</th>\n",
       "    </tr>\n",
       "  </thead>\n",
       "  <tbody>\n",
       "    <tr>\n",
       "      <th>0</th>\n",
       "      <td>4.995089</td>\n",
       "      <td>0.138372</td>\n",
       "      <td>3.864948</td>\n",
       "      <td>0.037109</td>\n",
       "      <td>0.0</td>\n",
       "      <td>{'var_smoothing': 1e-09}</td>\n",
       "      <td>0.435897</td>\n",
       "      <td>0.301282</td>\n",
       "      <td>0.270299</td>\n",
       "      <td>0.382479</td>\n",
       "      <td>0.361111</td>\n",
       "      <td>0.350214</td>\n",
       "      <td>0.058791</td>\n",
       "      <td>1</td>\n",
       "    </tr>\n",
       "    <tr>\n",
       "      <th>1</th>\n",
       "      <td>4.933877</td>\n",
       "      <td>0.028938</td>\n",
       "      <td>3.929654</td>\n",
       "      <td>0.005895</td>\n",
       "      <td>0.0</td>\n",
       "      <td>{'var_smoothing': 1e-08}</td>\n",
       "      <td>0.355769</td>\n",
       "      <td>0.193376</td>\n",
       "      <td>0.175214</td>\n",
       "      <td>0.217949</td>\n",
       "      <td>0.287393</td>\n",
       "      <td>0.245940</td>\n",
       "      <td>0.066827</td>\n",
       "      <td>2</td>\n",
       "    </tr>\n",
       "    <tr>\n",
       "      <th>2</th>\n",
       "      <td>5.029359</td>\n",
       "      <td>0.173549</td>\n",
       "      <td>4.023706</td>\n",
       "      <td>0.085807</td>\n",
       "      <td>0.0</td>\n",
       "      <td>{'var_smoothing': 1e-07}</td>\n",
       "      <td>0.130342</td>\n",
       "      <td>0.117521</td>\n",
       "      <td>0.106838</td>\n",
       "      <td>0.126068</td>\n",
       "      <td>0.134615</td>\n",
       "      <td>0.123077</td>\n",
       "      <td>0.009894</td>\n",
       "      <td>3</td>\n",
       "    </tr>\n",
       "    <tr>\n",
       "      <th>3</th>\n",
       "      <td>4.948926</td>\n",
       "      <td>0.090097</td>\n",
       "      <td>3.877588</td>\n",
       "      <td>0.020281</td>\n",
       "      <td>0.000001</td>\n",
       "      <td>{'var_smoothing': 1e-06}</td>\n",
       "      <td>0.056624</td>\n",
       "      <td>0.060897</td>\n",
       "      <td>0.048077</td>\n",
       "      <td>0.068376</td>\n",
       "      <td>0.079060</td>\n",
       "      <td>0.062607</td>\n",
       "      <td>0.010524</td>\n",
       "      <td>4</td>\n",
       "    </tr>\n",
       "    <tr>\n",
       "      <th>4</th>\n",
       "      <td>4.889849</td>\n",
       "      <td>0.025516</td>\n",
       "      <td>3.863980</td>\n",
       "      <td>0.005724</td>\n",
       "      <td>0.00001</td>\n",
       "      <td>{'var_smoothing': 1e-05}</td>\n",
       "      <td>0.028846</td>\n",
       "      <td>0.033120</td>\n",
       "      <td>0.027778</td>\n",
       "      <td>0.041667</td>\n",
       "      <td>0.052350</td>\n",
       "      <td>0.036752</td>\n",
       "      <td>0.009205</td>\n",
       "      <td>5</td>\n",
       "    </tr>\n",
       "  </tbody>\n",
       "</table>\n",
       "</div>"
      ],
      "text/plain": [
       "   mean_fit_time  std_fit_time  mean_score_time  std_score_time  \\\n",
       "0       4.995089      0.138372         3.864948        0.037109   \n",
       "1       4.933877      0.028938         3.929654        0.005895   \n",
       "2       5.029359      0.173549         4.023706        0.085807   \n",
       "3       4.948926      0.090097         3.877588        0.020281   \n",
       "4       4.889849      0.025516         3.863980        0.005724   \n",
       "\n",
       "  param_var_smoothing                    params  split0_test_score  \\\n",
       "0                 0.0  {'var_smoothing': 1e-09}           0.435897   \n",
       "1                 0.0  {'var_smoothing': 1e-08}           0.355769   \n",
       "2                 0.0  {'var_smoothing': 1e-07}           0.130342   \n",
       "3            0.000001  {'var_smoothing': 1e-06}           0.056624   \n",
       "4             0.00001  {'var_smoothing': 1e-05}           0.028846   \n",
       "\n",
       "   split1_test_score  split2_test_score  split3_test_score  split4_test_score  \\\n",
       "0           0.301282           0.270299           0.382479           0.361111   \n",
       "1           0.193376           0.175214           0.217949           0.287393   \n",
       "2           0.117521           0.106838           0.126068           0.134615   \n",
       "3           0.060897           0.048077           0.068376           0.079060   \n",
       "4           0.033120           0.027778           0.041667           0.052350   \n",
       "\n",
       "   mean_test_score  std_test_score  rank_test_score  \n",
       "0         0.350214        0.058791                1  \n",
       "1         0.245940        0.066827                2  \n",
       "2         0.123077        0.009894                3  \n",
       "3         0.062607        0.010524                4  \n",
       "4         0.036752        0.009205                5  "
      ]
     },
     "execution_count": 23,
     "metadata": {},
     "output_type": "execute_result"
    }
   ],
   "source": [
    "df = pd.DataFrame(grid_search.cv_results_)\n",
    "df"
   ]
  },
  {
   "cell_type": "code",
   "execution_count": 27,
   "id": "a19bcffd",
   "metadata": {},
   "outputs": [
    {
     "data": {
      "text/html": [
       "<div>\n",
       "<style scoped>\n",
       "    .dataframe tbody tr th:only-of-type {\n",
       "        vertical-align: middle;\n",
       "    }\n",
       "\n",
       "    .dataframe tbody tr th {\n",
       "        vertical-align: top;\n",
       "    }\n",
       "\n",
       "    .dataframe thead th {\n",
       "        text-align: right;\n",
       "    }\n",
       "</style>\n",
       "<table border=\"1\" class=\"dataframe\">\n",
       "  <thead>\n",
       "    <tr style=\"text-align: right;\">\n",
       "      <th></th>\n",
       "      <th>param_var_smoothing</th>\n",
       "      <th>params</th>\n",
       "      <th>mean_test_score</th>\n",
       "    </tr>\n",
       "  </thead>\n",
       "  <tbody>\n",
       "    <tr>\n",
       "      <th>0</th>\n",
       "      <td>0.0</td>\n",
       "      <td>{'var_smoothing': 1e-09}</td>\n",
       "      <td>0.350214</td>\n",
       "    </tr>\n",
       "    <tr>\n",
       "      <th>1</th>\n",
       "      <td>0.0</td>\n",
       "      <td>{'var_smoothing': 1e-08}</td>\n",
       "      <td>0.245940</td>\n",
       "    </tr>\n",
       "    <tr>\n",
       "      <th>2</th>\n",
       "      <td>0.0</td>\n",
       "      <td>{'var_smoothing': 1e-07}</td>\n",
       "      <td>0.123077</td>\n",
       "    </tr>\n",
       "    <tr>\n",
       "      <th>3</th>\n",
       "      <td>0.000001</td>\n",
       "      <td>{'var_smoothing': 1e-06}</td>\n",
       "      <td>0.062607</td>\n",
       "    </tr>\n",
       "    <tr>\n",
       "      <th>4</th>\n",
       "      <td>0.00001</td>\n",
       "      <td>{'var_smoothing': 1e-05}</td>\n",
       "      <td>0.036752</td>\n",
       "    </tr>\n",
       "  </tbody>\n",
       "</table>\n",
       "</div>"
      ],
      "text/plain": [
       "  param_var_smoothing                    params  mean_test_score\n",
       "0                 0.0  {'var_smoothing': 1e-09}         0.350214\n",
       "1                 0.0  {'var_smoothing': 1e-08}         0.245940\n",
       "2                 0.0  {'var_smoothing': 1e-07}         0.123077\n",
       "3            0.000001  {'var_smoothing': 1e-06}         0.062607\n",
       "4             0.00001  {'var_smoothing': 1e-05}         0.036752"
      ]
     },
     "execution_count": 27,
     "metadata": {},
     "output_type": "execute_result"
    }
   ],
   "source": [
    "df[['param_var_smoothing', 'params', 'mean_test_score']]"
   ]
  },
  {
   "cell_type": "code",
   "execution_count": 28,
   "id": "30b06555",
   "metadata": {},
   "outputs": [
    {
     "data": {
      "text/plain": [
       "0.3502136752136752"
      ]
     },
     "execution_count": 28,
     "metadata": {},
     "output_type": "execute_result"
    }
   ],
   "source": [
    "grid_search.best_score_"
   ]
  },
  {
   "cell_type": "code",
   "execution_count": 29,
   "id": "aa85c32e",
   "metadata": {},
   "outputs": [
    {
     "data": {
      "text/plain": [
       "{'var_smoothing': 1e-09}"
      ]
     },
     "execution_count": 29,
     "metadata": {},
     "output_type": "execute_result"
    }
   ],
   "source": [
    "grid_search.best_params_"
   ]
  },
  {
   "cell_type": "code",
   "execution_count": null,
   "id": "9c3b7994",
   "metadata": {},
   "outputs": [],
   "source": []
  }
 ],
 "metadata": {
  "kernelspec": {
   "display_name": "Python 3 (ipykernel)",
   "language": "python",
   "name": "python3"
  },
  "language_info": {
   "codemirror_mode": {
    "name": "ipython",
    "version": 3
   },
   "file_extension": ".py",
   "mimetype": "text/x-python",
   "name": "python",
   "nbconvert_exporter": "python",
   "pygments_lexer": "ipython3",
   "version": "3.9.12"
  }
 },
 "nbformat": 4,
 "nbformat_minor": 5
}
