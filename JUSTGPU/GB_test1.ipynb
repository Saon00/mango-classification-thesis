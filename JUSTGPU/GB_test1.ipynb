{
 "cells": [
  {
   "cell_type": "code",
   "execution_count": 1,
   "id": "c45a22e8",
   "metadata": {},
   "outputs": [],
   "source": [
    "#pip install tensorflow"
   ]
  },
  {
   "cell_type": "code",
   "execution_count": 2,
   "id": "4f8b54b6",
   "metadata": {},
   "outputs": [],
   "source": [
    "import os\n",
    "import numpy as np\n",
    "import cv2\n",
    "import pandas as pd\n",
    "from tensorflow.keras.preprocessing.image import ImageDataGenerator"
   ]
  },
  {
   "cell_type": "code",
   "execution_count": 3,
   "id": "976a8abe",
   "metadata": {},
   "outputs": [],
   "source": [
    "directory = \"TImages/\""
   ]
  },
  {
   "cell_type": "code",
   "execution_count": 4,
   "id": "6536a589",
   "metadata": {},
   "outputs": [],
   "source": [
    "image_size = (244, 244)\n",
    "classes = [\"0\", \"1\", \"2\"]"
   ]
  },
  {
   "cell_type": "code",
   "execution_count": 5,
   "id": "3c72303b",
   "metadata": {},
   "outputs": [],
   "source": [
    "# Create an ImageDataGenerator instance with data augmentation settings\n",
    "datagen = ImageDataGenerator(\n",
    "    rescale=1.0 / 255,\n",
    "    rotation_range=20,\n",
    "    width_shift_range=0.2,\n",
    "    height_shift_range=0.2,\n",
    "    shear_range=0.2,\n",
    "    zoom_range=0.2,\n",
    "    horizontal_flip=True,\n",
    "    vertical_flip=True,\n",
    "    fill_mode='nearest',\n",
    "    samplewise_center=True,\n",
    "    samplewise_std_normalization=True,\n",
    ")"
   ]
  },
  {
   "cell_type": "code",
   "execution_count": 6,
   "id": "39319dbe",
   "metadata": {},
   "outputs": [],
   "source": [
    "training_data = []\n",
    "\n",
    "def create_training_data():\n",
    "    for category in classes:\n",
    "        path = os.path.join(directory, category)\n",
    "        class_num = classes.index(category)\n",
    "        for img in os.listdir(path):\n",
    "            try:\n",
    "                img_array = cv2.imread(os.path.join(path, img))\n",
    "                new_array = cv2.resize(img_array, image_size)\n",
    "\n",
    "                # Generate and store augmented images\n",
    "                augmented_images = []\n",
    "                augmented_images.append(new_array)  # Original image\n",
    "                img_array_aug = new_array.reshape((1,) + new_array.shape)\n",
    "                i = 0\n",
    "                for batch in datagen.flow(img_array_aug, batch_size=1):\n",
    "                    augmented_images.append(batch[0])\n",
    "                    i += 1\n",
    "                    if i >= 5:  # Generate 5 augmented images per input image\n",
    "                        break\n",
    "\n",
    "                for augmented_image in augmented_images:\n",
    "                    image_hsv = cv2.cvtColor(augmented_image, cv2.COLOR_BGR2HSV)\n",
    "                    training_data.append([image_hsv, class_num])\n",
    "\n",
    "            except Exception as e:\n",
    "                pass"
   ]
  },
  {
   "cell_type": "code",
   "execution_count": 7,
   "id": "98d4e295",
   "metadata": {},
   "outputs": [],
   "source": [
    "create_training_data()"
   ]
  },
  {
   "cell_type": "code",
   "execution_count": 8,
   "id": "fc6011bf",
   "metadata": {},
   "outputs": [
    {
     "name": "stdout",
     "output_type": "stream",
     "text": [
      "5850\n"
     ]
    }
   ],
   "source": [
    "lenofimage = len(training_data)\n",
    "print(lenofimage)"
   ]
  },
  {
   "cell_type": "code",
   "execution_count": 9,
   "id": "7b0e3b09",
   "metadata": {},
   "outputs": [],
   "source": [
    "X=[]\n",
    "y=[]\n",
    "\n",
    "for categories, label in training_data:\n",
    "    X.append(categories)\n",
    "    y.append(label)\n",
    "X= np.array(X).reshape(lenofimage,-1)"
   ]
  },
  {
   "cell_type": "code",
   "execution_count": 10,
   "id": "5fbf4535",
   "metadata": {},
   "outputs": [],
   "source": [
    "from sklearn.model_selection import train_test_split\n",
    "from sklearn.metrics import accuracy_score"
   ]
  },
  {
   "cell_type": "code",
   "execution_count": 11,
   "id": "4c8b1bf0",
   "metadata": {},
   "outputs": [],
   "source": [
    "X_train, X_test, y_train, y_test = train_test_split(X, y, test_size=0.2, random_state=42, )"
   ]
  },
  {
   "cell_type": "code",
   "execution_count": 12,
   "id": "6ac041ff",
   "metadata": {},
   "outputs": [],
   "source": [
    "## GB MODEL"
   ]
  },
  {
   "cell_type": "code",
   "execution_count": 13,
   "id": "265bf0df",
   "metadata": {},
   "outputs": [],
   "source": [
    "from sklearn.ensemble import GradientBoostingClassifier\n",
    "from sklearn.model_selection import GridSearchCV\n",
    "from sklearn.preprocessing import StandardScaler\n",
    "from sklearn.metrics import accuracy_score\n",
    "from sklearn.model_selection import train_test_split"
   ]
  },
  {
   "cell_type": "code",
   "execution_count": 14,
   "id": "5d1a7886",
   "metadata": {},
   "outputs": [],
   "source": [
    "# Feature Scaling\n",
    "sc = StandardScaler()\n",
    "\n",
    "X_train = sc.fit_transform(X_train)\n",
    "X_test = sc.transform(X_test)"
   ]
  },
  {
   "cell_type": "code",
   "execution_count": 15,
   "id": "6554a65d",
   "metadata": {},
   "outputs": [],
   "source": [
    "# Hyperparameter Tuning using GridSearchCV\n",
    "param_grid = {'n_estimators': [50, 100, 200],\n",
    "              'learning_rate': [0.01, 0.1, 0.3],\n",
    "              'max_depth': [3, 5, 8],\n",
    "              'max_features': ['auto', 'log2', 'sqrt'],\n",
    "              'loss': ['log_loss'],\n",
    "              'subsample': [0.5, 1],\n",
    "             \n",
    "             }"
   ]
  },
  {
   "cell_type": "code",
   "execution_count": 16,
   "id": "981d7d5e",
   "metadata": {},
   "outputs": [],
   "source": [
    "gb = GradientBoostingClassifier()"
   ]
  },
  {
   "cell_type": "code",
   "execution_count": 17,
   "id": "db3b7933",
   "metadata": {},
   "outputs": [],
   "source": [
    "# Create the GridSearch object without cross-validation\n",
    "grid_search = GridSearchCV(gb, param_grid, cv=5, verbose=2)  # Set cv=None for no cross-validation"
   ]
  },
  {
   "cell_type": "code",
   "execution_count": null,
   "id": "926c776d",
   "metadata": {},
   "outputs": [
    {
     "name": "stdout",
     "output_type": "stream",
     "text": [
      "Fitting 5 folds for each of 162 candidates, totalling 810 fits\n",
      "[CV] END learning_rate=0.01, loss=log_loss, max_depth=3, max_features=auto, n_estimators=50, subsample=0.5; total time=   4.1s\n",
      "[CV] END learning_rate=0.01, loss=log_loss, max_depth=3, max_features=auto, n_estimators=50, subsample=0.5; total time=   4.6s\n",
      "[CV] END learning_rate=0.01, loss=log_loss, max_depth=3, max_features=auto, n_estimators=50, subsample=0.5; total time=   4.4s\n",
      "[CV] END learning_rate=0.01, loss=log_loss, max_depth=3, max_features=auto, n_estimators=50, subsample=0.5; total time=   4.2s\n",
      "[CV] END learning_rate=0.01, loss=log_loss, max_depth=3, max_features=auto, n_estimators=50, subsample=0.5; total time=   3.4s\n",
      "[CV] END learning_rate=0.01, loss=log_loss, max_depth=3, max_features=auto, n_estimators=50, subsample=1; total time=   3.4s\n",
      "[CV] END learning_rate=0.01, loss=log_loss, max_depth=3, max_features=auto, n_estimators=50, subsample=1; total time=   3.4s\n",
      "[CV] END learning_rate=0.01, loss=log_loss, max_depth=3, max_features=auto, n_estimators=50, subsample=1; total time=   3.4s\n",
      "[CV] END learning_rate=0.01, loss=log_loss, max_depth=3, max_features=auto, n_estimators=50, subsample=1; total time=   3.3s\n",
      "[CV] END learning_rate=0.01, loss=log_loss, max_depth=3, max_features=auto, n_estimators=50, subsample=1; total time=   3.4s\n",
      "[CV] END learning_rate=0.01, loss=log_loss, max_depth=3, max_features=auto, n_estimators=100, subsample=0.5; total time=   3.5s\n",
      "[CV] END learning_rate=0.01, loss=log_loss, max_depth=3, max_features=auto, n_estimators=100, subsample=0.5; total time=   3.3s\n",
      "[CV] END learning_rate=0.01, loss=log_loss, max_depth=3, max_features=auto, n_estimators=100, subsample=0.5; total time=   3.4s\n",
      "[CV] END learning_rate=0.01, loss=log_loss, max_depth=3, max_features=auto, n_estimators=100, subsample=0.5; total time=   3.4s\n",
      "[CV] END learning_rate=0.01, loss=log_loss, max_depth=3, max_features=auto, n_estimators=100, subsample=0.5; total time=   3.5s\n",
      "[CV] END learning_rate=0.01, loss=log_loss, max_depth=3, max_features=auto, n_estimators=100, subsample=1; total time=   3.4s\n",
      "[CV] END learning_rate=0.01, loss=log_loss, max_depth=3, max_features=auto, n_estimators=100, subsample=1; total time=   3.5s\n",
      "[CV] END learning_rate=0.01, loss=log_loss, max_depth=3, max_features=auto, n_estimators=100, subsample=1; total time=   3.5s\n",
      "[CV] END learning_rate=0.01, loss=log_loss, max_depth=3, max_features=auto, n_estimators=100, subsample=1; total time=   3.5s\n",
      "[CV] END learning_rate=0.01, loss=log_loss, max_depth=3, max_features=auto, n_estimators=100, subsample=1; total time=   3.2s\n",
      "[CV] END learning_rate=0.01, loss=log_loss, max_depth=3, max_features=auto, n_estimators=200, subsample=0.5; total time=   3.5s\n",
      "[CV] END learning_rate=0.01, loss=log_loss, max_depth=3, max_features=auto, n_estimators=200, subsample=0.5; total time=   3.5s\n",
      "[CV] END learning_rate=0.01, loss=log_loss, max_depth=3, max_features=auto, n_estimators=200, subsample=0.5; total time=   3.4s\n",
      "[CV] END learning_rate=0.01, loss=log_loss, max_depth=3, max_features=auto, n_estimators=200, subsample=0.5; total time=   3.6s\n",
      "[CV] END learning_rate=0.01, loss=log_loss, max_depth=3, max_features=auto, n_estimators=200, subsample=0.5; total time=   3.4s\n",
      "[CV] END learning_rate=0.01, loss=log_loss, max_depth=3, max_features=auto, n_estimators=200, subsample=1; total time=   3.4s\n",
      "[CV] END learning_rate=0.01, loss=log_loss, max_depth=3, max_features=auto, n_estimators=200, subsample=1; total time=   3.5s\n",
      "[CV] END learning_rate=0.01, loss=log_loss, max_depth=3, max_features=auto, n_estimators=200, subsample=1; total time=   3.5s\n",
      "[CV] END learning_rate=0.01, loss=log_loss, max_depth=3, max_features=auto, n_estimators=200, subsample=1; total time=   3.3s\n",
      "[CV] END learning_rate=0.01, loss=log_loss, max_depth=3, max_features=auto, n_estimators=200, subsample=1; total time=   3.4s\n",
      "[CV] END learning_rate=0.01, loss=log_loss, max_depth=3, max_features=log2, n_estimators=50, subsample=0.5; total time=  12.0s\n",
      "[CV] END learning_rate=0.01, loss=log_loss, max_depth=3, max_features=log2, n_estimators=50, subsample=0.5; total time=  11.7s\n",
      "[CV] END learning_rate=0.01, loss=log_loss, max_depth=3, max_features=log2, n_estimators=50, subsample=0.5; total time=  12.0s\n",
      "[CV] END learning_rate=0.01, loss=log_loss, max_depth=3, max_features=log2, n_estimators=50, subsample=0.5; total time=  11.7s\n",
      "[CV] END learning_rate=0.01, loss=log_loss, max_depth=3, max_features=log2, n_estimators=50, subsample=0.5; total time=   6.5s\n",
      "[CV] END learning_rate=0.01, loss=log_loss, max_depth=3, max_features=log2, n_estimators=50, subsample=1; total time=   8.9s\n",
      "[CV] END learning_rate=0.01, loss=log_loss, max_depth=3, max_features=log2, n_estimators=50, subsample=1; total time=   9.1s\n",
      "[CV] END learning_rate=0.01, loss=log_loss, max_depth=3, max_features=log2, n_estimators=50, subsample=1; total time=   8.6s\n",
      "[CV] END learning_rate=0.01, loss=log_loss, max_depth=3, max_features=log2, n_estimators=50, subsample=1; total time=   8.9s\n",
      "[CV] END learning_rate=0.01, loss=log_loss, max_depth=3, max_features=log2, n_estimators=50, subsample=1; total time=   9.1s\n",
      "[CV] END learning_rate=0.01, loss=log_loss, max_depth=3, max_features=log2, n_estimators=100, subsample=0.5; total time=   9.4s\n",
      "[CV] END learning_rate=0.01, loss=log_loss, max_depth=3, max_features=log2, n_estimators=100, subsample=0.5; total time=   9.3s\n",
      "[CV] END learning_rate=0.01, loss=log_loss, max_depth=3, max_features=log2, n_estimators=100, subsample=0.5; total time=   9.4s\n",
      "[CV] END learning_rate=0.01, loss=log_loss, max_depth=3, max_features=log2, n_estimators=100, subsample=0.5; total time=   9.2s\n",
      "[CV] END learning_rate=0.01, loss=log_loss, max_depth=3, max_features=log2, n_estimators=100, subsample=0.5; total time=   9.2s\n",
      "[CV] END learning_rate=0.01, loss=log_loss, max_depth=3, max_features=log2, n_estimators=100, subsample=1; total time=  13.8s\n",
      "[CV] END learning_rate=0.01, loss=log_loss, max_depth=3, max_features=log2, n_estimators=100, subsample=1; total time=  13.6s\n",
      "[CV] END learning_rate=0.01, loss=log_loss, max_depth=3, max_features=log2, n_estimators=100, subsample=1; total time=  14.3s\n",
      "[CV] END learning_rate=0.01, loss=log_loss, max_depth=3, max_features=log2, n_estimators=100, subsample=1; total time=  14.2s\n",
      "[CV] END learning_rate=0.01, loss=log_loss, max_depth=3, max_features=log2, n_estimators=100, subsample=1; total time=  14.8s\n",
      "[CV] END learning_rate=0.01, loss=log_loss, max_depth=3, max_features=log2, n_estimators=200, subsample=0.5; total time=  14.8s\n",
      "[CV] END learning_rate=0.01, loss=log_loss, max_depth=3, max_features=log2, n_estimators=200, subsample=0.5; total time=  14.6s\n",
      "[CV] END learning_rate=0.01, loss=log_loss, max_depth=3, max_features=log2, n_estimators=200, subsample=0.5; total time=  14.3s\n",
      "[CV] END learning_rate=0.01, loss=log_loss, max_depth=3, max_features=log2, n_estimators=200, subsample=0.5; total time=  15.8s\n",
      "[CV] END learning_rate=0.01, loss=log_loss, max_depth=3, max_features=log2, n_estimators=200, subsample=0.5; total time=  14.8s\n",
      "[CV] END learning_rate=0.01, loss=log_loss, max_depth=3, max_features=log2, n_estimators=200, subsample=1; total time=  25.0s\n",
      "[CV] END learning_rate=0.01, loss=log_loss, max_depth=3, max_features=log2, n_estimators=200, subsample=1; total time=  24.3s\n",
      "[CV] END learning_rate=0.01, loss=log_loss, max_depth=3, max_features=log2, n_estimators=200, subsample=1; total time=  23.6s\n",
      "[CV] END learning_rate=0.01, loss=log_loss, max_depth=3, max_features=log2, n_estimators=200, subsample=1; total time=  24.6s\n",
      "[CV] END learning_rate=0.01, loss=log_loss, max_depth=3, max_features=log2, n_estimators=200, subsample=1; total time=  24.0s\n",
      "[CV] END learning_rate=0.01, loss=log_loss, max_depth=3, max_features=sqrt, n_estimators=50, subsample=0.5; total time=  54.4s\n",
      "[CV] END learning_rate=0.01, loss=log_loss, max_depth=3, max_features=sqrt, n_estimators=50, subsample=0.5; total time=  51.8s\n",
      "[CV] END learning_rate=0.01, loss=log_loss, max_depth=3, max_features=sqrt, n_estimators=50, subsample=0.5; total time=  51.3s\n",
      "[CV] END learning_rate=0.01, loss=log_loss, max_depth=3, max_features=sqrt, n_estimators=50, subsample=0.5; total time=  56.4s\n",
      "[CV] END learning_rate=0.01, loss=log_loss, max_depth=3, max_features=sqrt, n_estimators=50, subsample=0.5; total time=  55.0s\n"
     ]
    },
    {
     "name": "stdout",
     "output_type": "stream",
     "text": [
      "[CV] END learning_rate=0.01, loss=log_loss, max_depth=3, max_features=sqrt, n_estimators=50, subsample=1; total time= 1.9min\n",
      "[CV] END learning_rate=0.01, loss=log_loss, max_depth=3, max_features=sqrt, n_estimators=50, subsample=1; total time= 2.3min\n",
      "[CV] END learning_rate=0.01, loss=log_loss, max_depth=3, max_features=sqrt, n_estimators=50, subsample=1; total time= 2.9min\n",
      "[CV] END learning_rate=0.01, loss=log_loss, max_depth=3, max_features=sqrt, n_estimators=50, subsample=1; total time= 2.9min\n",
      "[CV] END learning_rate=0.01, loss=log_loss, max_depth=3, max_features=sqrt, n_estimators=50, subsample=1; total time= 2.8min\n",
      "[CV] END learning_rate=0.01, loss=log_loss, max_depth=3, max_features=sqrt, n_estimators=100, subsample=0.5; total time= 2.7min\n",
      "[CV] END learning_rate=0.01, loss=log_loss, max_depth=3, max_features=sqrt, n_estimators=100, subsample=0.5; total time= 2.6min\n",
      "[CV] END learning_rate=0.01, loss=log_loss, max_depth=3, max_features=sqrt, n_estimators=100, subsample=0.5; total time= 2.5min\n",
      "[CV] END learning_rate=0.01, loss=log_loss, max_depth=3, max_features=sqrt, n_estimators=100, subsample=0.5; total time= 2.6min\n",
      "[CV] END learning_rate=0.01, loss=log_loss, max_depth=3, max_features=sqrt, n_estimators=100, subsample=0.5; total time= 2.7min\n",
      "[CV] END learning_rate=0.01, loss=log_loss, max_depth=3, max_features=sqrt, n_estimators=100, subsample=1; total time= 5.8min\n",
      "[CV] END learning_rate=0.01, loss=log_loss, max_depth=3, max_features=sqrt, n_estimators=100, subsample=1; total time= 6.1min\n",
      "[CV] END learning_rate=0.01, loss=log_loss, max_depth=3, max_features=sqrt, n_estimators=100, subsample=1; total time=10.7min\n",
      "[CV] END learning_rate=0.01, loss=log_loss, max_depth=3, max_features=sqrt, n_estimators=100, subsample=1; total time=10.4min\n",
      "[CV] END learning_rate=0.01, loss=log_loss, max_depth=3, max_features=sqrt, n_estimators=100, subsample=1; total time=10.1min\n",
      "[CV] END learning_rate=0.01, loss=log_loss, max_depth=3, max_features=sqrt, n_estimators=200, subsample=0.5; total time=10.3min\n",
      "[CV] END learning_rate=0.01, loss=log_loss, max_depth=3, max_features=sqrt, n_estimators=200, subsample=0.5; total time= 7.3min\n",
      "[CV] END learning_rate=0.01, loss=log_loss, max_depth=3, max_features=sqrt, n_estimators=200, subsample=0.5; total time= 6.1min\n",
      "[CV] END learning_rate=0.01, loss=log_loss, max_depth=3, max_features=sqrt, n_estimators=200, subsample=0.5; total time= 7.5min\n",
      "[CV] END learning_rate=0.01, loss=log_loss, max_depth=3, max_features=sqrt, n_estimators=200, subsample=0.5; total time= 5.6min\n",
      "[CV] END learning_rate=0.01, loss=log_loss, max_depth=3, max_features=sqrt, n_estimators=200, subsample=1; total time=18.8min\n",
      "[CV] END learning_rate=0.01, loss=log_loss, max_depth=3, max_features=sqrt, n_estimators=200, subsample=1; total time=19.1min\n",
      "[CV] END learning_rate=0.01, loss=log_loss, max_depth=3, max_features=sqrt, n_estimators=200, subsample=1; total time= 9.4min\n",
      "[CV] END learning_rate=0.01, loss=log_loss, max_depth=3, max_features=sqrt, n_estimators=200, subsample=1; total time= 5.6min\n",
      "[CV] END learning_rate=0.01, loss=log_loss, max_depth=3, max_features=sqrt, n_estimators=200, subsample=1; total time= 5.5min\n",
      "[CV] END learning_rate=0.01, loss=log_loss, max_depth=5, max_features=auto, n_estimators=50, subsample=0.5; total time=   0.9s\n",
      "[CV] END learning_rate=0.01, loss=log_loss, max_depth=5, max_features=auto, n_estimators=50, subsample=0.5; total time=   0.8s\n",
      "[CV] END learning_rate=0.01, loss=log_loss, max_depth=5, max_features=auto, n_estimators=50, subsample=0.5; total time=   0.8s\n",
      "[CV] END learning_rate=0.01, loss=log_loss, max_depth=5, max_features=auto, n_estimators=50, subsample=0.5; total time=   0.8s\n",
      "[CV] END learning_rate=0.01, loss=log_loss, max_depth=5, max_features=auto, n_estimators=50, subsample=0.5; total time=   0.8s\n",
      "[CV] END learning_rate=0.01, loss=log_loss, max_depth=5, max_features=auto, n_estimators=50, subsample=1; total time=   0.9s\n",
      "[CV] END learning_rate=0.01, loss=log_loss, max_depth=5, max_features=auto, n_estimators=50, subsample=1; total time=   0.9s\n",
      "[CV] END learning_rate=0.01, loss=log_loss, max_depth=5, max_features=auto, n_estimators=50, subsample=1; total time=   0.9s\n",
      "[CV] END learning_rate=0.01, loss=log_loss, max_depth=5, max_features=auto, n_estimators=50, subsample=1; total time=   0.9s\n",
      "[CV] END learning_rate=0.01, loss=log_loss, max_depth=5, max_features=auto, n_estimators=50, subsample=1; total time=   0.8s\n",
      "[CV] END learning_rate=0.01, loss=log_loss, max_depth=5, max_features=auto, n_estimators=100, subsample=0.5; total time=   0.8s\n",
      "[CV] END learning_rate=0.01, loss=log_loss, max_depth=5, max_features=auto, n_estimators=100, subsample=0.5; total time=   0.8s\n",
      "[CV] END learning_rate=0.01, loss=log_loss, max_depth=5, max_features=auto, n_estimators=100, subsample=0.5; total time=   0.8s\n",
      "[CV] END learning_rate=0.01, loss=log_loss, max_depth=5, max_features=auto, n_estimators=100, subsample=0.5; total time=   0.8s\n",
      "[CV] END learning_rate=0.01, loss=log_loss, max_depth=5, max_features=auto, n_estimators=100, subsample=0.5; total time=   0.8s\n",
      "[CV] END learning_rate=0.01, loss=log_loss, max_depth=5, max_features=auto, n_estimators=100, subsample=1; total time=   0.8s\n",
      "[CV] END learning_rate=0.01, loss=log_loss, max_depth=5, max_features=auto, n_estimators=100, subsample=1; total time=   0.8s\n",
      "[CV] END learning_rate=0.01, loss=log_loss, max_depth=5, max_features=auto, n_estimators=100, subsample=1; total time=   0.8s\n",
      "[CV] END learning_rate=0.01, loss=log_loss, max_depth=5, max_features=auto, n_estimators=100, subsample=1; total time=   0.8s\n",
      "[CV] END learning_rate=0.01, loss=log_loss, max_depth=5, max_features=auto, n_estimators=100, subsample=1; total time=   0.8s\n",
      "[CV] END learning_rate=0.01, loss=log_loss, max_depth=5, max_features=auto, n_estimators=200, subsample=0.5; total time=   0.8s\n",
      "[CV] END learning_rate=0.01, loss=log_loss, max_depth=5, max_features=auto, n_estimators=200, subsample=0.5; total time=   0.8s\n",
      "[CV] END learning_rate=0.01, loss=log_loss, max_depth=5, max_features=auto, n_estimators=200, subsample=0.5; total time=   0.7s\n",
      "[CV] END learning_rate=0.01, loss=log_loss, max_depth=5, max_features=auto, n_estimators=200, subsample=0.5; total time=   0.9s\n",
      "[CV] END learning_rate=0.01, loss=log_loss, max_depth=5, max_features=auto, n_estimators=200, subsample=0.5; total time=   0.7s\n",
      "[CV] END learning_rate=0.01, loss=log_loss, max_depth=5, max_features=auto, n_estimators=200, subsample=1; total time=   0.9s\n",
      "[CV] END learning_rate=0.01, loss=log_loss, max_depth=5, max_features=auto, n_estimators=200, subsample=1; total time=   0.7s\n",
      "[CV] END learning_rate=0.01, loss=log_loss, max_depth=5, max_features=auto, n_estimators=200, subsample=1; total time=   0.9s\n",
      "[CV] END learning_rate=0.01, loss=log_loss, max_depth=5, max_features=auto, n_estimators=200, subsample=1; total time=   0.8s\n",
      "[CV] END learning_rate=0.01, loss=log_loss, max_depth=5, max_features=auto, n_estimators=200, subsample=1; total time=   0.9s\n",
      "[CV] END learning_rate=0.01, loss=log_loss, max_depth=5, max_features=log2, n_estimators=50, subsample=0.5; total time=   5.4s\n",
      "[CV] END learning_rate=0.01, loss=log_loss, max_depth=5, max_features=log2, n_estimators=50, subsample=0.5; total time=   5.4s\n",
      "[CV] END learning_rate=0.01, loss=log_loss, max_depth=5, max_features=log2, n_estimators=50, subsample=0.5; total time=   5.4s\n",
      "[CV] END learning_rate=0.01, loss=log_loss, max_depth=5, max_features=log2, n_estimators=50, subsample=0.5; total time=   5.4s\n",
      "[CV] END learning_rate=0.01, loss=log_loss, max_depth=5, max_features=log2, n_estimators=50, subsample=0.5; total time=   5.4s\n",
      "[CV] END learning_rate=0.01, loss=log_loss, max_depth=5, max_features=log2, n_estimators=50, subsample=1; total time=   8.2s\n",
      "[CV] END learning_rate=0.01, loss=log_loss, max_depth=5, max_features=log2, n_estimators=50, subsample=1; total time=   8.3s\n",
      "[CV] END learning_rate=0.01, loss=log_loss, max_depth=5, max_features=log2, n_estimators=50, subsample=1; total time=   8.3s\n",
      "[CV] END learning_rate=0.01, loss=log_loss, max_depth=5, max_features=log2, n_estimators=50, subsample=1; total time=   8.2s\n",
      "[CV] END learning_rate=0.01, loss=log_loss, max_depth=5, max_features=log2, n_estimators=50, subsample=1; total time=   8.2s\n"
     ]
    },
    {
     "name": "stdout",
     "output_type": "stream",
     "text": [
      "[CV] END learning_rate=0.01, loss=log_loss, max_depth=5, max_features=log2, n_estimators=100, subsample=0.5; total time=   8.7s\n",
      "[CV] END learning_rate=0.01, loss=log_loss, max_depth=5, max_features=log2, n_estimators=100, subsample=0.5; total time=  10.2s\n",
      "[CV] END learning_rate=0.01, loss=log_loss, max_depth=5, max_features=log2, n_estimators=100, subsample=0.5; total time=  10.5s\n",
      "[CV] END learning_rate=0.01, loss=log_loss, max_depth=5, max_features=log2, n_estimators=100, subsample=0.5; total time=  10.5s\n",
      "[CV] END learning_rate=0.01, loss=log_loss, max_depth=5, max_features=log2, n_estimators=100, subsample=0.5; total time=   9.0s\n",
      "[CV] END learning_rate=0.01, loss=log_loss, max_depth=5, max_features=log2, n_estimators=100, subsample=1; total time=  14.4s\n",
      "[CV] END learning_rate=0.01, loss=log_loss, max_depth=5, max_features=log2, n_estimators=100, subsample=1; total time=  16.3s\n",
      "[CV] END learning_rate=0.01, loss=log_loss, max_depth=5, max_features=log2, n_estimators=100, subsample=1; total time=  18.4s\n",
      "[CV] END learning_rate=0.01, loss=log_loss, max_depth=5, max_features=log2, n_estimators=100, subsample=1; total time=  17.2s\n",
      "[CV] END learning_rate=0.01, loss=log_loss, max_depth=5, max_features=log2, n_estimators=100, subsample=1; total time=  14.4s\n",
      "[CV] END learning_rate=0.01, loss=log_loss, max_depth=5, max_features=log2, n_estimators=200, subsample=0.5; total time=  15.8s\n",
      "[CV] END learning_rate=0.01, loss=log_loss, max_depth=5, max_features=log2, n_estimators=200, subsample=0.5; total time=  16.2s\n",
      "[CV] END learning_rate=0.01, loss=log_loss, max_depth=5, max_features=log2, n_estimators=200, subsample=0.5; total time=  15.6s\n",
      "[CV] END learning_rate=0.01, loss=log_loss, max_depth=5, max_features=log2, n_estimators=200, subsample=0.5; total time=  15.3s\n",
      "[CV] END learning_rate=0.01, loss=log_loss, max_depth=5, max_features=log2, n_estimators=200, subsample=0.5; total time=  15.2s\n",
      "[CV] END learning_rate=0.01, loss=log_loss, max_depth=5, max_features=log2, n_estimators=200, subsample=1; total time=  26.8s\n",
      "[CV] END learning_rate=0.01, loss=log_loss, max_depth=5, max_features=log2, n_estimators=200, subsample=1; total time=  25.6s\n",
      "[CV] END learning_rate=0.01, loss=log_loss, max_depth=5, max_features=log2, n_estimators=200, subsample=1; total time=  26.8s\n",
      "[CV] END learning_rate=0.01, loss=log_loss, max_depth=5, max_features=log2, n_estimators=200, subsample=1; total time=  26.8s\n",
      "[CV] END learning_rate=0.01, loss=log_loss, max_depth=5, max_features=log2, n_estimators=200, subsample=1; total time=  29.3s\n",
      "[CV] END learning_rate=0.01, loss=log_loss, max_depth=5, max_features=sqrt, n_estimators=50, subsample=0.5; total time= 1.1min\n",
      "[CV] END learning_rate=0.01, loss=log_loss, max_depth=5, max_features=sqrt, n_estimators=50, subsample=0.5; total time= 1.1min\n",
      "[CV] END learning_rate=0.01, loss=log_loss, max_depth=5, max_features=sqrt, n_estimators=50, subsample=0.5; total time= 1.1min\n",
      "[CV] END learning_rate=0.01, loss=log_loss, max_depth=5, max_features=sqrt, n_estimators=50, subsample=0.5; total time= 1.1min\n",
      "[CV] END learning_rate=0.01, loss=log_loss, max_depth=5, max_features=sqrt, n_estimators=50, subsample=0.5; total time= 1.2min\n",
      "[CV] END learning_rate=0.01, loss=log_loss, max_depth=5, max_features=sqrt, n_estimators=50, subsample=1; total time= 2.2min\n",
      "[CV] END learning_rate=0.01, loss=log_loss, max_depth=5, max_features=sqrt, n_estimators=50, subsample=1; total time= 2.2min\n",
      "[CV] END learning_rate=0.01, loss=log_loss, max_depth=5, max_features=sqrt, n_estimators=50, subsample=1; total time= 2.2min\n",
      "[CV] END learning_rate=0.01, loss=log_loss, max_depth=5, max_features=sqrt, n_estimators=50, subsample=1; total time= 2.3min\n",
      "[CV] END learning_rate=0.01, loss=log_loss, max_depth=5, max_features=sqrt, n_estimators=50, subsample=1; total time= 2.3min\n",
      "[CV] END learning_rate=0.01, loss=log_loss, max_depth=5, max_features=sqrt, n_estimators=100, subsample=0.5; total time= 2.2min\n",
      "[CV] END learning_rate=0.01, loss=log_loss, max_depth=5, max_features=sqrt, n_estimators=100, subsample=0.5; total time= 2.2min\n",
      "[CV] END learning_rate=0.01, loss=log_loss, max_depth=5, max_features=sqrt, n_estimators=100, subsample=0.5; total time= 2.2min\n",
      "[CV] END learning_rate=0.01, loss=log_loss, max_depth=5, max_features=sqrt, n_estimators=100, subsample=0.5; total time= 2.2min\n",
      "[CV] END learning_rate=0.01, loss=log_loss, max_depth=5, max_features=sqrt, n_estimators=100, subsample=0.5; total time= 2.2min\n",
      "[CV] END learning_rate=0.01, loss=log_loss, max_depth=5, max_features=sqrt, n_estimators=100, subsample=1; total time= 4.6min\n",
      "[CV] END learning_rate=0.01, loss=log_loss, max_depth=5, max_features=sqrt, n_estimators=100, subsample=1; total time= 5.1min\n",
      "[CV] END learning_rate=0.01, loss=log_loss, max_depth=5, max_features=sqrt, n_estimators=100, subsample=1; total time= 4.7min\n",
      "[CV] END learning_rate=0.01, loss=log_loss, max_depth=5, max_features=sqrt, n_estimators=100, subsample=1; total time= 4.9min\n",
      "[CV] END learning_rate=0.01, loss=log_loss, max_depth=5, max_features=sqrt, n_estimators=100, subsample=1; total time= 4.4min\n",
      "[CV] END learning_rate=0.01, loss=log_loss, max_depth=5, max_features=sqrt, n_estimators=200, subsample=0.5; total time= 4.7min\n",
      "[CV] END learning_rate=0.01, loss=log_loss, max_depth=5, max_features=sqrt, n_estimators=200, subsample=0.5; total time= 4.6min\n",
      "[CV] END learning_rate=0.01, loss=log_loss, max_depth=5, max_features=sqrt, n_estimators=200, subsample=0.5; total time= 4.7min\n",
      "[CV] END learning_rate=0.01, loss=log_loss, max_depth=5, max_features=sqrt, n_estimators=200, subsample=0.5; total time= 6.1min\n",
      "[CV] END learning_rate=0.01, loss=log_loss, max_depth=5, max_features=sqrt, n_estimators=200, subsample=0.5; total time= 8.1min\n",
      "[CV] END learning_rate=0.01, loss=log_loss, max_depth=5, max_features=sqrt, n_estimators=200, subsample=1; total time=14.8min\n",
      "[CV] END learning_rate=0.01, loss=log_loss, max_depth=5, max_features=sqrt, n_estimators=200, subsample=1; total time=16.6min\n",
      "[CV] END learning_rate=0.01, loss=log_loss, max_depth=5, max_features=sqrt, n_estimators=200, subsample=1; total time=15.7min\n",
      "[CV] END learning_rate=0.01, loss=log_loss, max_depth=5, max_features=sqrt, n_estimators=200, subsample=1; total time=13.3min\n",
      "[CV] END learning_rate=0.01, loss=log_loss, max_depth=5, max_features=sqrt, n_estimators=200, subsample=1; total time=14.8min\n",
      "[CV] END learning_rate=0.01, loss=log_loss, max_depth=8, max_features=auto, n_estimators=50, subsample=0.5; total time=   1.6s\n",
      "[CV] END learning_rate=0.01, loss=log_loss, max_depth=8, max_features=auto, n_estimators=50, subsample=0.5; total time=   1.5s\n",
      "[CV] END learning_rate=0.01, loss=log_loss, max_depth=8, max_features=auto, n_estimators=50, subsample=0.5; total time=   1.4s\n",
      "[CV] END learning_rate=0.01, loss=log_loss, max_depth=8, max_features=auto, n_estimators=50, subsample=0.5; total time=   1.4s\n",
      "[CV] END learning_rate=0.01, loss=log_loss, max_depth=8, max_features=auto, n_estimators=50, subsample=0.5; total time=   1.5s\n",
      "[CV] END learning_rate=0.01, loss=log_loss, max_depth=8, max_features=auto, n_estimators=50, subsample=1; total time=   1.4s\n",
      "[CV] END learning_rate=0.01, loss=log_loss, max_depth=8, max_features=auto, n_estimators=50, subsample=1; total time=   1.4s\n",
      "[CV] END learning_rate=0.01, loss=log_loss, max_depth=8, max_features=auto, n_estimators=50, subsample=1; total time=   1.5s\n",
      "[CV] END learning_rate=0.01, loss=log_loss, max_depth=8, max_features=auto, n_estimators=50, subsample=1; total time=   1.4s\n",
      "[CV] END learning_rate=0.01, loss=log_loss, max_depth=8, max_features=auto, n_estimators=50, subsample=1; total time=   1.6s\n",
      "[CV] END learning_rate=0.01, loss=log_loss, max_depth=8, max_features=auto, n_estimators=100, subsample=0.5; total time=   1.5s\n",
      "[CV] END learning_rate=0.01, loss=log_loss, max_depth=8, max_features=auto, n_estimators=100, subsample=0.5; total time=   1.4s\n",
      "[CV] END learning_rate=0.01, loss=log_loss, max_depth=8, max_features=auto, n_estimators=100, subsample=0.5; total time=   1.3s\n",
      "[CV] END learning_rate=0.01, loss=log_loss, max_depth=8, max_features=auto, n_estimators=100, subsample=0.5; total time=   1.5s\n",
      "[CV] END learning_rate=0.01, loss=log_loss, max_depth=8, max_features=auto, n_estimators=100, subsample=0.5; total time=   1.5s\n"
     ]
    },
    {
     "name": "stdout",
     "output_type": "stream",
     "text": [
      "[CV] END learning_rate=0.01, loss=log_loss, max_depth=8, max_features=auto, n_estimators=100, subsample=1; total time=   1.6s\n",
      "[CV] END learning_rate=0.01, loss=log_loss, max_depth=8, max_features=auto, n_estimators=100, subsample=1; total time=   1.4s\n",
      "[CV] END learning_rate=0.01, loss=log_loss, max_depth=8, max_features=auto, n_estimators=100, subsample=1; total time=   1.4s\n",
      "[CV] END learning_rate=0.01, loss=log_loss, max_depth=8, max_features=auto, n_estimators=100, subsample=1; total time=   1.5s\n",
      "[CV] END learning_rate=0.01, loss=log_loss, max_depth=8, max_features=auto, n_estimators=100, subsample=1; total time=   1.4s\n",
      "[CV] END learning_rate=0.01, loss=log_loss, max_depth=8, max_features=auto, n_estimators=200, subsample=0.5; total time=   1.5s\n",
      "[CV] END learning_rate=0.01, loss=log_loss, max_depth=8, max_features=auto, n_estimators=200, subsample=0.5; total time=   1.4s\n",
      "[CV] END learning_rate=0.01, loss=log_loss, max_depth=8, max_features=auto, n_estimators=200, subsample=0.5; total time=   1.4s\n",
      "[CV] END learning_rate=0.01, loss=log_loss, max_depth=8, max_features=auto, n_estimators=200, subsample=0.5; total time=   1.4s\n",
      "[CV] END learning_rate=0.01, loss=log_loss, max_depth=8, max_features=auto, n_estimators=200, subsample=0.5; total time=   1.5s\n",
      "[CV] END learning_rate=0.01, loss=log_loss, max_depth=8, max_features=auto, n_estimators=200, subsample=1; total time=   1.5s\n",
      "[CV] END learning_rate=0.01, loss=log_loss, max_depth=8, max_features=auto, n_estimators=200, subsample=1; total time=   1.4s\n",
      "[CV] END learning_rate=0.01, loss=log_loss, max_depth=8, max_features=auto, n_estimators=200, subsample=1; total time=   1.5s\n",
      "[CV] END learning_rate=0.01, loss=log_loss, max_depth=8, max_features=auto, n_estimators=200, subsample=1; total time=   1.4s\n",
      "[CV] END learning_rate=0.01, loss=log_loss, max_depth=8, max_features=auto, n_estimators=200, subsample=1; total time=   1.3s\n",
      "[CV] END learning_rate=0.01, loss=log_loss, max_depth=8, max_features=log2, n_estimators=50, subsample=0.5; total time=  10.8s\n",
      "[CV] END learning_rate=0.01, loss=log_loss, max_depth=8, max_features=log2, n_estimators=50, subsample=0.5; total time=  11.2s\n",
      "[CV] END learning_rate=0.01, loss=log_loss, max_depth=8, max_features=log2, n_estimators=50, subsample=0.5; total time=  11.2s\n",
      "[CV] END learning_rate=0.01, loss=log_loss, max_depth=8, max_features=log2, n_estimators=50, subsample=0.5; total time=  13.7s\n",
      "[CV] END learning_rate=0.01, loss=log_loss, max_depth=8, max_features=log2, n_estimators=50, subsample=0.5; total time=  16.4s\n",
      "[CV] END learning_rate=0.01, loss=log_loss, max_depth=8, max_features=log2, n_estimators=50, subsample=1; total time=  25.3s\n",
      "[CV] END learning_rate=0.01, loss=log_loss, max_depth=8, max_features=log2, n_estimators=50, subsample=1; total time=  24.7s\n",
      "[CV] END learning_rate=0.01, loss=log_loss, max_depth=8, max_features=log2, n_estimators=50, subsample=1; total time=  25.8s\n",
      "[CV] END learning_rate=0.01, loss=log_loss, max_depth=8, max_features=log2, n_estimators=50, subsample=1; total time=  25.9s\n",
      "[CV] END learning_rate=0.01, loss=log_loss, max_depth=8, max_features=log2, n_estimators=50, subsample=1; total time=  25.1s\n",
      "[CV] END learning_rate=0.01, loss=log_loss, max_depth=8, max_features=log2, n_estimators=100, subsample=0.5; total time=  25.6s\n",
      "[CV] END learning_rate=0.01, loss=log_loss, max_depth=8, max_features=log2, n_estimators=100, subsample=0.5; total time=  25.6s\n",
      "[CV] END learning_rate=0.01, loss=log_loss, max_depth=8, max_features=log2, n_estimators=100, subsample=0.5; total time=  26.4s\n",
      "[CV] END learning_rate=0.01, loss=log_loss, max_depth=8, max_features=log2, n_estimators=100, subsample=0.5; total time=  25.7s\n",
      "[CV] END learning_rate=0.01, loss=log_loss, max_depth=8, max_features=log2, n_estimators=100, subsample=0.5; total time=  26.7s\n",
      "[CV] END learning_rate=0.01, loss=log_loss, max_depth=8, max_features=log2, n_estimators=100, subsample=1; total time=  45.0s\n",
      "[CV] END learning_rate=0.01, loss=log_loss, max_depth=8, max_features=log2, n_estimators=100, subsample=1; total time=  44.3s\n",
      "[CV] END learning_rate=0.01, loss=log_loss, max_depth=8, max_features=log2, n_estimators=100, subsample=1; total time=  44.6s\n",
      "[CV] END learning_rate=0.01, loss=log_loss, max_depth=8, max_features=log2, n_estimators=100, subsample=1; total time=  44.2s\n",
      "[CV] END learning_rate=0.01, loss=log_loss, max_depth=8, max_features=log2, n_estimators=100, subsample=1; total time=  45.4s\n",
      "[CV] END learning_rate=0.01, loss=log_loss, max_depth=8, max_features=log2, n_estimators=200, subsample=0.5; total time=  43.9s\n",
      "[CV] END learning_rate=0.01, loss=log_loss, max_depth=8, max_features=log2, n_estimators=200, subsample=0.5; total time=  41.1s\n",
      "[CV] END learning_rate=0.01, loss=log_loss, max_depth=8, max_features=log2, n_estimators=200, subsample=0.5; total time=  41.2s\n",
      "[CV] END learning_rate=0.01, loss=log_loss, max_depth=8, max_features=log2, n_estimators=200, subsample=0.5; total time=  41.3s\n",
      "[CV] END learning_rate=0.01, loss=log_loss, max_depth=8, max_features=log2, n_estimators=200, subsample=0.5; total time=  42.1s\n",
      "[CV] END learning_rate=0.01, loss=log_loss, max_depth=8, max_features=log2, n_estimators=200, subsample=1; total time= 1.2min\n",
      "[CV] END learning_rate=0.01, loss=log_loss, max_depth=8, max_features=log2, n_estimators=200, subsample=1; total time=  48.0s\n",
      "[CV] END learning_rate=0.01, loss=log_loss, max_depth=8, max_features=log2, n_estimators=200, subsample=1; total time=  50.4s\n",
      "[CV] END learning_rate=0.01, loss=log_loss, max_depth=8, max_features=log2, n_estimators=200, subsample=1; total time=  49.2s\n",
      "[CV] END learning_rate=0.01, loss=log_loss, max_depth=8, max_features=log2, n_estimators=200, subsample=1; total time=  58.7s\n",
      "[CV] END learning_rate=0.01, loss=log_loss, max_depth=8, max_features=sqrt, n_estimators=50, subsample=0.5; total time= 2.3min\n",
      "[CV] END learning_rate=0.01, loss=log_loss, max_depth=8, max_features=sqrt, n_estimators=50, subsample=0.5; total time= 2.7min\n",
      "[CV] END learning_rate=0.01, loss=log_loss, max_depth=8, max_features=sqrt, n_estimators=50, subsample=0.5; total time= 3.3min\n",
      "[CV] END learning_rate=0.01, loss=log_loss, max_depth=8, max_features=sqrt, n_estimators=50, subsample=0.5; total time= 3.3min\n",
      "[CV] END learning_rate=0.01, loss=log_loss, max_depth=8, max_features=sqrt, n_estimators=50, subsample=0.5; total time= 3.3min\n",
      "[CV] END learning_rate=0.01, loss=log_loss, max_depth=8, max_features=sqrt, n_estimators=50, subsample=1; total time= 7.0min\n",
      "[CV] END learning_rate=0.01, loss=log_loss, max_depth=8, max_features=sqrt, n_estimators=50, subsample=1; total time= 4.8min\n",
      "[CV] END learning_rate=0.01, loss=log_loss, max_depth=8, max_features=sqrt, n_estimators=50, subsample=1; total time= 4.8min\n",
      "[CV] END learning_rate=0.01, loss=log_loss, max_depth=8, max_features=sqrt, n_estimators=50, subsample=1; total time= 3.8min\n",
      "[CV] END learning_rate=0.01, loss=log_loss, max_depth=8, max_features=sqrt, n_estimators=50, subsample=1; total time= 3.5min\n",
      "[CV] END learning_rate=0.01, loss=log_loss, max_depth=8, max_features=sqrt, n_estimators=100, subsample=0.5; total time= 3.4min\n",
      "[CV] END learning_rate=0.01, loss=log_loss, max_depth=8, max_features=sqrt, n_estimators=100, subsample=0.5; total time= 3.6min\n",
      "[CV] END learning_rate=0.01, loss=log_loss, max_depth=8, max_features=sqrt, n_estimators=100, subsample=0.5; total time= 4.2min\n",
      "[CV] END learning_rate=0.01, loss=log_loss, max_depth=8, max_features=sqrt, n_estimators=100, subsample=0.5; total time= 4.5min\n",
      "[CV] END learning_rate=0.01, loss=log_loss, max_depth=8, max_features=sqrt, n_estimators=100, subsample=0.5; total time= 4.5min\n",
      "[CV] END learning_rate=0.01, loss=log_loss, max_depth=8, max_features=sqrt, n_estimators=100, subsample=1; total time= 7.4min\n",
      "[CV] END learning_rate=0.01, loss=log_loss, max_depth=8, max_features=sqrt, n_estimators=100, subsample=1; total time= 7.3min\n",
      "[CV] END learning_rate=0.01, loss=log_loss, max_depth=8, max_features=sqrt, n_estimators=100, subsample=1; total time= 7.0min\n",
      "[CV] END learning_rate=0.01, loss=log_loss, max_depth=8, max_features=sqrt, n_estimators=100, subsample=1; total time= 6.8min\n",
      "[CV] END learning_rate=0.01, loss=log_loss, max_depth=8, max_features=sqrt, n_estimators=100, subsample=1; total time= 6.8min\n"
     ]
    }
   ],
   "source": [
    "# Fit the GridSearch object to your data\n",
    "grid_search.fit(X_train, y_train)"
   ]
  },
  {
   "cell_type": "code",
   "execution_count": null,
   "id": "7f655292",
   "metadata": {},
   "outputs": [],
   "source": [
    "# Get the best estimator and evaluate it\n",
    "best_nb = grid_search.best_estimator_\n",
    "y_test_pred = best_nb.predict(X_test)\n",
    "accuracy = accuracy_score(y_test, y_test_pred)\n",
    "print(\"Best Gaussian Naive Bayes Parameters:\", grid_search.best_params_)\n",
    "print(\"Accuracy: {:.2f}%\".format(accuracy * 100))"
   ]
  },
  {
   "cell_type": "code",
   "execution_count": null,
   "id": "7b819f0f",
   "metadata": {},
   "outputs": [],
   "source": [
    "# work progressing...........\n"
   ]
  },
  {
   "cell_type": "code",
   "execution_count": null,
   "id": "e85d5980",
   "metadata": {},
   "outputs": [],
   "source": [
    "grid_search.cv_results_"
   ]
  },
  {
   "cell_type": "code",
   "execution_count": null,
   "id": "e37c36c5",
   "metadata": {},
   "outputs": [],
   "source": [
    "df = pd.DataFrame(grid_search.cv_results_)\n",
    "df"
   ]
  },
  {
   "cell_type": "code",
   "execution_count": null,
   "id": "a19bcffd",
   "metadata": {},
   "outputs": [],
   "source": [
    "df[['param_var_smoothing', 'params', 'mean_test_score']]"
   ]
  },
  {
   "cell_type": "code",
   "execution_count": null,
   "id": "30b06555",
   "metadata": {},
   "outputs": [],
   "source": [
    "grid_search.best_score_"
   ]
  },
  {
   "cell_type": "code",
   "execution_count": null,
   "id": "aa85c32e",
   "metadata": {},
   "outputs": [],
   "source": [
    "grid_search.best_params_"
   ]
  },
  {
   "cell_type": "code",
   "execution_count": null,
   "id": "9c3b7994",
   "metadata": {},
   "outputs": [],
   "source": []
  }
 ],
 "metadata": {
  "kernelspec": {
   "display_name": "Python 3 (ipykernel)",
   "language": "python",
   "name": "python3"
  },
  "language_info": {
   "codemirror_mode": {
    "name": "ipython",
    "version": 3
   },
   "file_extension": ".py",
   "mimetype": "text/x-python",
   "name": "python",
   "nbconvert_exporter": "python",
   "pygments_lexer": "ipython3",
   "version": "3.8.13"
  }
 },
 "nbformat": 4,
 "nbformat_minor": 5
}
